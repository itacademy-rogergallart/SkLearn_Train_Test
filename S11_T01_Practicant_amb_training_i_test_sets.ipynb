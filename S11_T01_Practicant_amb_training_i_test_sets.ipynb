{
  "nbformat": 4,
  "nbformat_minor": 0,
  "metadata": {
    "colab": {
      "name": "S11_T01_Practicant_amb_training_i_test_sets.ipynb",
      "provenance": [],
      "authorship_tag": "ABX9TyN8CPXpTw2d+AefsCx7RcPf"
    },
    "kernelspec": {
      "name": "python3",
      "display_name": "Python 3"
    },
    "language_info": {
      "name": "python"
    }
  },
  "cells": [
    {
      "cell_type": "markdown",
      "metadata": {
        "id": "3baYCeIwG6H8"
      },
      "source": [
        "# S11 T01: Practicant amb training i test sets"
      ]
    },
    {
      "cell_type": "markdown",
      "metadata": {
        "id": "xSmnJbRPG3Go"
      },
      "source": [
        "## Exercici 1\n",
        "Parteix el conjunt de dadesDelayedFlights.csv en train i test. Estudia els dos conjunts per separat, a nivell descriptiu."
      ]
    },
    {
      "cell_type": "markdown",
      "metadata": {
        "id": "ccU3KkKhG3CK"
      },
      "source": [
        "##Exercici 2\n",
        "Aplica algun procés de transformació (estandarditzar les dades numèriques, crear columnes dummies, polinomis...)."
      ]
    },
    {
      "cell_type": "markdown",
      "metadata": {
        "id": "vKO2VWd9G29W"
      },
      "source": [
        "## Exercici 3\n",
        "Resumeix les noves columnes generades de manera estadística i gràfica"
      ]
    }
  ]
}